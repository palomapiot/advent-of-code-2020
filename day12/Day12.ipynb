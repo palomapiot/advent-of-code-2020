{
 "cells": [
  {
   "cell_type": "markdown",
   "metadata": {},
   "source": [
    "--- Day 12: Rain Risk ---\n",
    "    \n",
    "Your ferry made decent progress toward the island, but the storm came in faster than anyone expected. The ferry needs to take evasive actions!\n",
    "\n",
    "Unfortunately, the ship's navigation computer seems to be malfunctioning; rather than giving a route directly to safety, it produced extremely circuitous instructions. When the captain uses the PA system to ask if anyone can help, you quickly volunteer.\n",
    "\n",
    "The navigation instructions (your puzzle input) consists of a sequence of single-character actions paired with integer input values. After staring at them for a few minutes, you work out what they probably mean:\n",
    "\n",
    "Action N means to move north by the given value.\n",
    "Action S means to move south by the given value.\n",
    "Action E means to move east by the given value.\n",
    "Action W means to move west by the given value.\n",
    "Action L means to turn left the given number of degrees.\n",
    "Action R means to turn right the given number of degrees.\n",
    "Action F means to move forward by the given value in the direction the ship is currently facing.\n",
    "The ship starts by facing east. Only the L and R actions change the direction the ship is facing. (That is, if the ship is facing east and the next instruction is N10, the ship would move north 10 units, but would still move east if the following action were F.)\n",
    "\n",
    "For example:\n",
    "\n",
    "F10\n",
    "N3\n",
    "F7\n",
    "R90\n",
    "F11\n",
    "\n",
    "These instructions would be handled as follows:\n",
    "\n",
    "F10 would move the ship 10 units east (because the ship starts by facing east) to east 10, north 0.\n",
    "N3 would move the ship 3 units north to east 10, north 3.\n",
    "F7 would move the ship another 7 units east (because the ship is still facing east) to east 17, north 3.\n",
    "R90 would cause the ship to turn right by 90 degrees and face south; it remains at east 17, north 3.\n",
    "F11 would move the ship 11 units south to east 17, south 8.\n",
    "At the end of these instructions, the ship's Manhattan distance (sum of the absolute values of its east/west position and its north/south position) from its starting position is 17 + 8 = 25.\n",
    "\n",
    "Figure out where the navigation instructions lead. What is the Manhattan distance between that location and the ship's starting position?"
   ]
  },
  {
   "cell_type": "code",
   "execution_count": 76,
   "metadata": {},
   "outputs": [],
   "source": [
    "with open('day12.txt', 'r') as file:\n",
    "    data = [x.strip('\\n') for x in file]"
   ]
  },
  {
   "cell_type": "code",
   "execution_count": 60,
   "metadata": {},
   "outputs": [
    {
     "name": "stdout",
     "output_type": "stream",
     "text": [
      "1710\n"
     ]
    }
   ],
   "source": [
    "import operator\n",
    "\n",
    "ops = { \"N\": operator.add, \"S\": operator.sub, \"E\": operator.add, \"W\": operator.sub, \"R\": operator.add, \"L\": operator.sub }\n",
    "\n",
    "op_turn = ['R', 'L']\n",
    "\n",
    "coords = {\n",
    "    'N': 1,\n",
    "    'E': 0,\n",
    "    'S': 1,\n",
    "    'W': 0\n",
    "}\n",
    "\n",
    "degrees = {\n",
    "    '90': 1,\n",
    "    '180': 2,\n",
    "    '270': 3,\n",
    "    '360': 4\n",
    "}\n",
    "\n",
    "x_y = [0, 0]\n",
    "facing = 'E'\n",
    "\n",
    "for item in data:\n",
    "    if item[0] == 'F':\n",
    "        x_y[coords[facing]] = ops[facing](x_y[coords[facing]], int(item[1:]))\n",
    "    elif item[0] in op_turn:\n",
    "        keys = list(coords.keys())\n",
    "        facing = keys[ops[item[0]](keys.index(facing), degrees[item[1:]]) % 4]\n",
    "    else: \n",
    "        x_y[coords[item[0]]] = ops[item[0]](x_y[coords[item[0]]], int(item[1:]))\n",
    "print(sum(abs(number) for number in x_y)) #1710"
   ]
  },
  {
   "cell_type": "markdown",
   "metadata": {},
   "source": [
    "--- Part Two ---\n",
    "\n",
    "Before you can give the destination to the captain, you realize that the actual action meanings were printed on the back of the instructions the whole time.\n",
    "\n",
    "Almost all of the actions indicate how to move a waypoint which is relative to the ship's position:\n",
    "\n",
    "Action N means to move the waypoint north by the given value.\n",
    "Action S means to move the waypoint south by the given value.\n",
    "Action E means to move the waypoint east by the given value.\n",
    "Action W means to move the waypoint west by the given value.\n",
    "Action L means to rotate the waypoint around the ship left (counter-clockwise) the given number of degrees.\n",
    "Action R means to rotate the waypoint around the ship right (clockwise) the given number of degrees.\n",
    "Action F means to move forward to the waypoint a number of times equal to the given value.\n",
    "\n",
    "The waypoint starts 10 units east and 1 unit north relative to the ship. The waypoint is relative to the ship; that is, if the ship moves, the waypoint moves with it.\n",
    "\n",
    "For example, using the same instructions as above:\n",
    "\n",
    "F10 moves the ship to the waypoint 10 times (a total of 100 units east and 10 units north), leaving the ship at east 100, north 10. The waypoint stays 10 units east and 1 unit north of the ship.\n",
    "N3 moves the waypoint 3 units north to 10 units east and 4 units north of the ship. The ship remains at east 100, north 10.\n",
    "F7 moves the ship to the waypoint 7 times (a total of 70 units east and 28 units north), leaving the ship at east 170, north 38. The waypoint stays 10 units east and 4 units north of the ship.\n",
    "R90 rotates the waypoint around the ship clockwise 90 degrees, moving it to 4 units east and 10 units south of the ship. The ship remains at east 170, north 38.\n",
    "F11 moves the ship to the waypoint 11 times (a total of 44 units east and 110 units south), leaving the ship at east 214, south 72. The waypoint stays 4 units east and 10 units south of the ship.\n",
    "\n",
    "After these operations, the ship's Manhattan distance from its starting position is 214 + 72 = 286.\n",
    "\n",
    "Figure out where the navigation instructions actually lead. What is the Manhattan distance between that location and the ship's starting position?"
   ]
  },
  {
   "cell_type": "code",
   "execution_count": 77,
   "metadata": {},
   "outputs": [
    {
     "name": "stdout",
     "output_type": "stream",
     "text": [
      "62045\n"
     ]
    }
   ],
   "source": [
    "import operator\n",
    "\n",
    "ops = { \"N\": operator.add, \"S\": operator.sub, \"E\": operator.add, \"W\": operator.sub, \"R\": operator.add, \"L\": operator.sub }\n",
    "\n",
    "op_turn = ['R', 'L']\n",
    "\n",
    "coords = {\n",
    "    'N': 1,\n",
    "    'E': 0,\n",
    "    'S': 1,\n",
    "    'W': 0\n",
    "}\n",
    "\n",
    "x_y = (0, 0)\n",
    "\n",
    "waypoint = [10, 1]\n",
    "\n",
    "for item in data:\n",
    "    if item[0] == 'F':\n",
    "        x_y = (x_y[0] + waypoint[0]*int(item[1:]), x_y[1] + waypoint[1]*int(item[1:]))\n",
    "    elif item[0] in op_turn:\n",
    "        op = ops[item[0]]\n",
    "        op_times = int(int(item[1:]) / 90)\n",
    "        for t in range(op_times):\n",
    "            x = op(0, waypoint[1])\n",
    "            y = op(0, -waypoint[0])\n",
    "            waypoint[0] = x\n",
    "            waypoint[1] = y\n",
    "    else: \n",
    "        waypoint[coords[item[0]]] = ops[item[0]](waypoint[coords[item[0]]], int(item[1:]))\n",
    "print(sum(abs(number) for number in x_y)) # 62045"
   ]
  }
 ],
 "metadata": {
  "kernelspec": {
   "display_name": "Python 3",
   "language": "python",
   "name": "python3"
  },
  "language_info": {
   "codemirror_mode": {
    "name": "ipython",
    "version": 3
   },
   "file_extension": ".py",
   "mimetype": "text/x-python",
   "name": "python",
   "nbconvert_exporter": "python",
   "pygments_lexer": "ipython3",
   "version": "3.7.6"
  }
 },
 "nbformat": 4,
 "nbformat_minor": 4
}
