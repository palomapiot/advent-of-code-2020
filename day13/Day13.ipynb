{
 "cells": [
  {
   "cell_type": "markdown",
   "metadata": {},
   "source": [
    "--- Day 13: Shuttle Search ---\n",
    "    \n",
    "Your ferry can make it safely to a nearby port, but it won't get much further. When you call to book another ship, you discover that no ships embark from that port to your vacation island. You'll need to get from the port to the nearest airport.\n",
    "\n",
    "Fortunately, a shuttle bus service is available to bring you from the sea port to the airport! Each bus has an ID number that also indicates how often the bus leaves for the airport.\n",
    "\n",
    "Bus schedules are defined based on a timestamp that measures the number of minutes since some fixed reference point in the past. At timestamp 0, every bus simultaneously departed from the sea port. After that, each bus travels to the airport, then various other locations, and finally returns to the sea port to repeat its journey forever.\n",
    "\n",
    "The time this loop takes a particular bus is also its ID number: the bus with ID 5 departs from the sea port at timestamps 0, 5, 10, 15, and so on. The bus with ID 11 departs at 0, 11, 22, 33, and so on. If you are there when the bus departs, you can ride that bus to the airport!\n",
    "\n",
    "Your notes (your puzzle input) consist of two lines. The first line is your estimate of the earliest timestamp you could depart on a bus. The second line lists the bus IDs that are in service according to the shuttle company; entries that show x must be out of service, so you decide to ignore them.\n",
    "\n",
    "To save time once you arrive, your goal is to figure out the earliest bus you can take to the airport. (There will be exactly one such bus.)\n",
    "\n",
    "For example, suppose you have the following notes:\n",
    "\n",
    "939\n",
    "7,13,x,x,59,x,31,19\n",
    "\n",
    "Here, the earliest timestamp you could depart is 939, and the bus IDs in service are 7, 13, 59, 31, and 19. Near timestamp 939, these bus IDs depart at the times marked D:\n",
    "\n",
    "time   bus 7   bus 13  bus 59  bus 31  bus 19\n",
    "929      .       .       .       .       .\n",
    "930      .       .       .       D       .\n",
    "931      D       .       .       .       D\n",
    "932      .       .       .       .       .\n",
    "933      .       .       .       .       .\n",
    "934      .       .       .       .       .\n",
    "935      .       .       .       .       .\n",
    "936      .       D       .       .       .\n",
    "937      .       .       .       .       .\n",
    "938      D       .       .       .       .\n",
    "939      .       .       .       .       .\n",
    "940      .       .       .       .       .\n",
    "941      .       .       .       .       .\n",
    "942      .       .       .       .       .\n",
    "943      .       .       .       .       .\n",
    "944      .       .       D       .       .\n",
    "945      D       .       .       .       .\n",
    "946      .       .       .       .       .\n",
    "947      .       .       .       .       .\n",
    "948      .       .       .       .       .\n",
    "949      .       D       .       .       .\n",
    "\n",
    "The earliest bus you could take is bus ID 59. It doesn't depart until timestamp 944, so you would need to wait 944 - 939 = 5 minutes before it departs. Multiplying the bus ID by the number of minutes you'd need to wait gives 295.\n",
    "\n",
    "What is the ID of the earliest bus you can take to the airport multiplied by the number of minutes you'll need to wait for that bus?"
   ]
  },
  {
   "cell_type": "code",
   "execution_count": 183,
   "metadata": {},
   "outputs": [],
   "source": [
    "with open('day13.txt', 'r') as file:\n",
    "    data = [x.strip('\\n') for x in file]"
   ]
  },
  {
   "cell_type": "code",
   "execution_count": 187,
   "metadata": {},
   "outputs": [
    {
     "data": {
      "text/plain": [
       "{'13': [1000077],\n",
       " '41': [1000072],\n",
       " '37': [1000073],\n",
       " '659': [1000362],\n",
       " '19': [1000084],\n",
       " '23': [1000086],\n",
       " '29': [1000094],\n",
       " '409': [1000414],\n",
       " '17': [1000076]}"
      ]
     },
     "execution_count": 187,
     "metadata": {},
     "output_type": "execute_result"
    }
   ],
   "source": [
    "earliest = int(data[0])\n",
    "buses = {}\n",
    "data_buses = list(data[1].split(\",\")) \n",
    "for bus in data_buses:\n",
    "    if bus != 'x':\n",
    "        buses[bus] = [x for x in range(0, earliest + int(bus), int(bus)) if x >= earliest]\n",
    "buses"
   ]
  },
  {
   "cell_type": "code",
   "execution_count": 188,
   "metadata": {},
   "outputs": [
    {
     "data": {
      "text/plain": [
       "246"
      ]
     },
     "execution_count": 188,
     "metadata": {},
     "output_type": "execute_result"
    }
   ],
   "source": [
    "41 * (1000072 - earliest) # 246"
   ]
  },
  {
   "cell_type": "markdown",
   "metadata": {},
   "source": [
    "--- Part Two ---\n",
    "\n",
    "The shuttle company is running a contest: one gold coin for anyone that can find the earliest timestamp such that the first bus ID departs at that time and each subsequent listed bus ID departs at that subsequent minute. (The first line in your input is no longer relevant.)\n",
    "\n",
    "For example, suppose you have the same list of bus IDs as above:\n",
    "\n",
    "7,13,x,x,59,x,31,19\n",
    "An x in the schedule means there are no constraints on what bus IDs must depart at that time.\n",
    "\n",
    "This means you are looking for the earliest timestamp (called t) such that:\n",
    "\n",
    "Bus ID 7 departs at timestamp t.\n",
    "Bus ID 13 departs one minute after timestamp t.\n",
    "There are no requirements or restrictions on departures at two or three minutes after timestamp t.\n",
    "Bus ID 59 departs four minutes after timestamp t.\n",
    "There are no requirements or restrictions on departures at five minutes after timestamp t.\n",
    "Bus ID 31 departs six minutes after timestamp t.\n",
    "Bus ID 19 departs seven minutes after timestamp t.\n",
    "\n",
    "The only bus departures that matter are the listed bus IDs at their specific offsets from t. Those bus IDs can depart at other times, and other bus IDs can depart at those times. For example, in the list above, because bus ID 19 must depart seven minutes after the timestamp at which bus ID 7 departs, bus ID 7 will always also be departing with bus ID 19 at seven minutes after timestamp t.\n",
    "\n",
    "In this example, the earliest timestamp at which this occurs is 1068781:\n",
    "\n",
    "time     bus 7   bus 13  bus 59  bus 31  bus 19\n",
    "1068773    .       .       .       .       .\n",
    "1068774    D       .       .       .       .\n",
    "1068775    .       .       .       .       .\n",
    "1068776    .       .       .       .       .\n",
    "1068777    .       .       .       .       .\n",
    "1068778    .       .       .       .       .\n",
    "1068779    .       .       .       .       .\n",
    "1068780    .       .       .       .       .\n",
    "1068781    D       .       .       .       .\n",
    "1068782    .       D       .       .       .\n",
    "1068783    .       .       .       .       .\n",
    "1068784    .       .       .       .       .\n",
    "1068785    .       .       D       .       .\n",
    "1068786    .       .       .       .       .\n",
    "1068787    .       .       .       D       .\n",
    "1068788    D       .       .       .       D\n",
    "1068789    .       .       .       .       .\n",
    "1068790    .       .       .       .       .\n",
    "1068791    .       .       .       .       .\n",
    "1068792    .       .       .       .       .\n",
    "1068793    .       .       .       .       .\n",
    "1068794    .       .       .       .       .\n",
    "1068795    D       D       .       .       .\n",
    "1068796    .       .       .       .       .\n",
    "1068797    .       .       .       .       .\n",
    "\n",
    "In the above example, bus ID 7 departs at timestamp 1068788 (seven minutes after t). This is fine; the only requirement on that minute is that bus ID 19 departs then, and it does.\n",
    "\n",
    "Here are some other examples:\n",
    "\n",
    "The earliest timestamp that matches the list 17,x,13,19 is 3417.\n",
    "67,7,59,61 first occurs at timestamp 754018.   \n",
    "67,x,7,59,61 first occurs at timestamp 779210.\n",
    "67,7,x,59,61 first occurs at timestamp 1261476.\n",
    "1789,37,47,1889 first occurs at timestamp 1202161486.\n",
    "\n",
    "However, with so many bus IDs in your list, surely the actual earliest timestamp will be larger than 100000000000000!\n",
    "\n",
    "What is the earliest timestamp such that all of the listed bus IDs depart at offsets matching their positions in the list?"
   ]
  },
  {
   "cell_type": "code",
   "execution_count": 191,
   "metadata": {},
   "outputs": [
    {
     "name": "stdout",
     "output_type": "stream",
     "text": [
      "939490236001473\n"
     ]
    }
   ],
   "source": [
    "from functools import reduce\n",
    "\n",
    "test_buses = data_buses \n",
    "\n",
    "n = reduce(lambda x, y: x*y, (int(x) for x in test_buses if x != 'x'))\n",
    "t = 0 \n",
    "for index, bus in enumerate(test_buses):\n",
    "    if index > 0 and bus != 'x':\n",
    "        n_i = int(n / int(bus))\n",
    "        x_i = calc_xi(n_i, int(bus))\n",
    "        t += (int(bus) - index) * n_i * x_i\n",
    "print(t % n) # 939490236001473"
   ]
  },
  {
   "cell_type": "code",
   "execution_count": 189,
   "metadata": {},
   "outputs": [],
   "source": [
    "def calc_xi(n_i, mod):\n",
    "    initial = n_i % mod\n",
    "    if initial == 1:\n",
    "        return int(initial)\n",
    "    else:\n",
    "        return calc_xi_aux(initial, initial+initial, mod)"
   ]
  },
  {
   "cell_type": "code",
   "execution_count": 190,
   "metadata": {},
   "outputs": [],
   "source": [
    "def calc_xi_aux(initial, aux, mod):\n",
    "    if aux % mod == 1:\n",
    "        return int(aux / initial)\n",
    "    return calc_xi_aux(initial, aux+initial, mod)"
   ]
  }
 ],
 "metadata": {
  "kernelspec": {
   "display_name": "Python 3",
   "language": "python",
   "name": "python3"
  },
  "language_info": {
   "codemirror_mode": {
    "name": "ipython",
    "version": 3
   },
   "file_extension": ".py",
   "mimetype": "text/x-python",
   "name": "python",
   "nbconvert_exporter": "python",
   "pygments_lexer": "ipython3",
   "version": "3.7.6"
  }
 },
 "nbformat": 4,
 "nbformat_minor": 4
}
